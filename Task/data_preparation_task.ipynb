{
 "cells": [
  {
   "cell_type": "markdown",
   "metadata": {},
   "source": [
    "# Exercise 2 - Data Preparation\n",
    "\n",
    "You should have completed exercise 1 before this exercise.\n",
    "\n",
    "We use the same dataset \"train_FD001.txt\" as in exercise 1. You can download it from moodle. \n",
    "In this exercise we focus on the data preparation. Data preparation typically is the most time-consuming task in machine learning and data mining tasks. It is fundamental to prepare the raw data to be processable by algorithms. Next to outlier removal and filtering and smoothing of the data, feature generation (e.g. Fourier Transformation) or feature reduction (e.g. Principal Component Analysis, PCA) can be applied. \n",
    "\n",
    "In this exercise, we will analyse the influence of basic filtering (moving average) and feature reduction methods (PCA) on the correlations of variables with the RUL."
   ]
  },
  {
   "cell_type": "markdown",
   "metadata": {},
   "source": [
    "First we load basic libraries"
   ]
  },
  {
   "cell_type": "code",
   "execution_count": 9,
   "metadata": {},
   "outputs": [],
   "source": [
    "import pandas as pd\n",
    "import matplotlib.pyplot as plt"
   ]
  },
  {
   "cell_type": "markdown",
   "metadata": {},
   "source": [
    "### 1. Load your data, rename columns if you wish to."
   ]
  },
  {
   "cell_type": "code",
   "execution_count": null,
   "metadata": {},
   "outputs": [],
   "source": []
  },
  {
   "cell_type": "markdown",
   "metadata": {},
   "source": [
    "### 2. Choose one of the variables with high RUL-correlation from exercise 1 and apply a moving average filter with window sizes of 5, 10 and 20 time steps.  Plot the results and compare it with the unfiltered signal."
   ]
  },
  {
   "cell_type": "code",
   "execution_count": null,
   "metadata": {},
   "outputs": [],
   "source": []
  },
  {
   "cell_type": "markdown",
   "metadata": {},
   "source": [
    "### 3. Compare correlations of the filtered sensor signal with the RUL and the raw signal with the RUL. What can you conclude from the results?"
   ]
  },
  {
   "cell_type": "code",
   "execution_count": null,
   "metadata": {},
   "outputs": [],
   "source": []
  },
  {
   "cell_type": "markdown",
   "metadata": {},
   "source": [
    "### 4. Fit and apply a PCA on the sensor subset. Remember to standardize the data first. Plot the first two Principal Components against each other.\n",
    "Hint: Libraries like Scikit Learn include suitable functions.  "
   ]
  },
  {
   "cell_type": "markdown",
   "metadata": {},
   "source": [
    "### 5. How much variance is explained by the first principal component?"
   ]
  },
  {
   "cell_type": "code",
   "execution_count": null,
   "metadata": {},
   "outputs": [],
   "source": []
  },
  {
   "cell_type": "markdown",
   "metadata": {},
   "source": [
    "### 6. How many principal components are needed to explain more than 95% of the variance in the data?"
   ]
  },
  {
   "cell_type": "code",
   "execution_count": null,
   "metadata": {},
   "outputs": [],
   "source": []
  },
  {
   "cell_type": "markdown",
   "metadata": {},
   "source": [
    "### 7. Analyse the correlation of the principal components with the RUL. Does the result meet your expectations?"
   ]
  },
  {
   "cell_type": "code",
   "execution_count": null,
   "metadata": {},
   "outputs": [],
   "source": []
  },
  {
   "cell_type": "markdown",
   "metadata": {},
   "source": [
    "### 8. Which sensors have the highest feature importance in first principal components? How does this relate to the correlations with RUL from exercise 1?"
   ]
  },
  {
   "cell_type": "code",
   "execution_count": null,
   "metadata": {},
   "outputs": [],
   "source": []
  }
 ],
 "metadata": {
  "kernelspec": {
   "display_name": "Python 3",
   "language": "python",
   "name": "python3"
  },
  "language_info": {
   "codemirror_mode": {
    "name": "ipython",
    "version": 3
   },
   "file_extension": ".py",
   "mimetype": "text/x-python",
   "name": "python",
   "nbconvert_exporter": "python",
   "pygments_lexer": "ipython3",
   "version": "3.8.5"
  }
 },
 "nbformat": 4,
 "nbformat_minor": 4
}
